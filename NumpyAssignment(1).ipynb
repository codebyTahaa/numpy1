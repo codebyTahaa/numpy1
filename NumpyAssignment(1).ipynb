{
  "nbformat": 4,
  "nbformat_minor": 0,
  "metadata": {
    "colab": {
      "provenance": []
    },
    "kernelspec": {
      "name": "python3",
      "display_name": "Python 3"
    },
    "language_info": {
      "name": "python"
    }
  },
  "cells": [
    {
      "cell_type": "markdown",
      "source": [
        "\n",
        "# **1. Basic Array Manipulation:**\n"
      ],
      "metadata": {
        "id": "UZXjlass3ARu"
      }
    },
    {
      "cell_type": "markdown",
      "source": [
        "Create a 1D array with values ranging from 0 to 9.\n"
      ],
      "metadata": {
        "id": "tDWPQRm23C7o"
      }
    },
    {
      "cell_type": "code",
      "source": [],
      "metadata": {
        "id": "OvGF66_02Q8H"
      },
      "execution_count": null,
      "outputs": []
    },
    {
      "cell_type": "markdown",
      "source": [
        "Reshape the array into a 3x3 matrix.\n",
        "\n",
        "Explore Reshape Function"
      ],
      "metadata": {
        "id": "UYzIzPyB3Ne3"
      }
    },
    {
      "cell_type": "code",
      "source": [],
      "metadata": {
        "id": "RLlzDCBc2Q_P"
      },
      "execution_count": null,
      "outputs": []
    },
    {
      "cell_type": "markdown",
      "source": [
        "Access the element at the second row, second column.\n"
      ],
      "metadata": {
        "id": "KmhRK9Ti3Phn"
      }
    },
    {
      "cell_type": "code",
      "source": [],
      "metadata": {
        "id": "Dk_a1D3A3ijN"
      },
      "execution_count": null,
      "outputs": []
    },
    {
      "cell_type": "markdown",
      "source": [
        "Perform element-wise addition, subtraction, multiplication, and division on two arrays [1, 2, 3] and [4, 5, 6].\n"
      ],
      "metadata": {
        "id": "NlH7N-fZ36wc"
      }
    },
    {
      "cell_type": "code",
      "source": [],
      "metadata": {
        "id": "PkgNSo1a37kP"
      },
      "execution_count": null,
      "outputs": []
    },
    {
      "cell_type": "markdown",
      "source": [
        "Find the sum, mean, and standard deviation of the array [1, 2, 3, 4, 5].\n"
      ],
      "metadata": {
        "id": "JVt4zxkk8e0P"
      }
    },
    {
      "cell_type": "code",
      "source": [],
      "metadata": {
        "id": "mQZxaZ0c8nhh"
      },
      "execution_count": null,
      "outputs": []
    },
    {
      "cell_type": "markdown",
      "source": [
        "Reshape the array [1, 2, 3, 4, 5, 6] into a 2x3 array.\n",
        "\n",
        "Explore Reshape"
      ],
      "metadata": {
        "id": "ji2XvW0Z8nn5"
      }
    },
    {
      "cell_type": "code",
      "source": [],
      "metadata": {
        "id": "FNbYlzyI8rAx"
      },
      "execution_count": null,
      "outputs": []
    },
    {
      "cell_type": "markdown",
      "source": [
        "\n",
        "# **2. Indexing and Slicing:**\n"
      ],
      "metadata": {
        "id": "OE-5o0th3SU4"
      }
    },
    {
      "cell_type": "markdown",
      "source": [
        "Create a 5x5 array with random integers.\n"
      ],
      "metadata": {
        "id": "yqNKWBOl3an3"
      }
    },
    {
      "cell_type": "code",
      "source": [],
      "metadata": {
        "id": "G-kX4nme2RBn"
      },
      "execution_count": null,
      "outputs": []
    },
    {
      "cell_type": "markdown",
      "source": [
        "Replace all values in the sub-array with a specific value.\n"
      ],
      "metadata": {
        "id": "LlilKAMF3bMX"
      }
    },
    {
      "cell_type": "code",
      "source": [],
      "metadata": {
        "id": "gShfqRGm2REI"
      },
      "execution_count": null,
      "outputs": []
    },
    {
      "cell_type": "markdown",
      "source": [
        "Extract the subarray [[3, 4], [7, 8]] from the array [[1, 2], [3, 4], [5, 6], [7, 8]].\n"
      ],
      "metadata": {
        "id": "1kUY7u023gfF"
      }
    },
    {
      "cell_type": "code",
      "source": [],
      "metadata": {
        "id": "UmgqjBwC3_4V"
      },
      "execution_count": null,
      "outputs": []
    },
    {
      "cell_type": "markdown",
      "source": [
        "\n",
        "# **3. Broadcasting:**"
      ],
      "metadata": {
        "id": "vPrCHS_O3jK9"
      }
    },
    {
      "cell_type": "markdown",
      "source": [
        "Create a 2D array of shape (3, 3) with values from 0 to 2.\n"
      ],
      "metadata": {
        "id": "W3WUM5Cc3phc"
      }
    },
    {
      "cell_type": "code",
      "source": [],
      "metadata": {
        "id": "PxJrAlFW2RGw"
      },
      "execution_count": null,
      "outputs": []
    },
    {
      "cell_type": "markdown",
      "source": [
        "Add a 1D array of shape (3,) to each row of the 2D array using broadcasting.\n"
      ],
      "metadata": {
        "id": "J5XPwN3A3rXG"
      }
    },
    {
      "cell_type": "code",
      "source": [],
      "metadata": {
        "id": "k4FM2g_c2RJv"
      },
      "execution_count": null,
      "outputs": []
    },
    {
      "cell_type": "markdown",
      "source": [
        "# **4. Concatenation and Splitting**"
      ],
      "metadata": {
        "id": "9CbtQS3w4PA3"
      }
    },
    {
      "cell_type": "markdown",
      "source": [
        "\n",
        "1.   Create two 2D arrays of shape (3, 3) with random integers.\n",
        "2.   Concatenate them horizontally and vertically.\n",
        "3.   Split the concatenated arrays back into the original arrays.\n"
      ],
      "metadata": {
        "id": "yMg_umVy4ILG"
      }
    },
    {
      "cell_type": "code",
      "source": [],
      "metadata": {
        "id": "wXiCa2Sn8XHP"
      },
      "execution_count": null,
      "outputs": []
    },
    {
      "cell_type": "code",
      "source": [],
      "metadata": {
        "id": "yAiYe6vj8XSW"
      },
      "execution_count": null,
      "outputs": []
    },
    {
      "cell_type": "code",
      "source": [],
      "metadata": {
        "id": "lgMsjt-J8XZK"
      },
      "execution_count": null,
      "outputs": []
    },
    {
      "cell_type": "markdown",
      "source": [
        "# **Bonus Question**\n",
        "\n",
        "Find mode of this array  = [1,2,1,2,3,4,5,6,8,9,1,2,2,22,21,1,1,1,1,2,5]\n",
        "\n",
        "Hint: Use count and also loop"
      ],
      "metadata": {
        "id": "2CliNLH8YG3j"
      }
    },
    {
      "cell_type": "code",
      "source": [],
      "metadata": {
        "id": "JGe2Qe3SYaHq"
      },
      "execution_count": null,
      "outputs": []
    },
    {
      "cell_type": "markdown",
      "source": [
        "# **Notes**\n",
        "\n",
        "\n",
        "1.   All the Questions carry Equal Points (2 points)\n",
        "\n",
        "2.   Bonus Question carry 5 points\n",
        "\n",
        "3.   Review lecture for any query\n",
        "\n",
        "Good Luck!\n",
        "\n"
      ],
      "metadata": {
        "id": "1t9n5GQdYbHN"
      }
    },
    {
      "cell_type": "code",
      "source": [],
      "metadata": {
        "id": "yxT9-gJfYugV"
      },
      "execution_count": null,
      "outputs": []
    }
  ]
}